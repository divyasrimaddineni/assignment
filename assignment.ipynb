{
 "cells": [
  {
   "cell_type": "code",
   "execution_count": 2,
   "metadata": {},
   "outputs": [
    {
     "name": "stdout",
     "output_type": "stream",
     "text": [
      "irsayvid\n"
     ]
    }
   ],
   "source": [
    "#program to reverse the string\n",
    "s=\"divyasri\"\n",
    "print(s[::-1])\n"
   ]
  },
  {
   "cell_type": "code",
   "execution_count": 4,
   "metadata": {},
   "outputs": [
    {
     "name": "stdout",
     "output_type": "stream",
     "text": [
      "['Evng', 'Gud', 'Divyasri', 'Hello']\n"
     ]
    }
   ],
   "source": [
    "#program to reverse order of words\n",
    "s=\"Hello Divyasri Gud Evng\"\n",
    "l=s.split()\n",
    "print(l[::-1])"
   ]
  },
  {
   "cell_type": "code",
   "execution_count": 15,
   "metadata": {},
   "outputs": [
    {
     "name": "stdout",
     "output_type": "stream",
     "text": [
      "olleH ayviD\n"
     ]
    }
   ],
   "source": [
    "#program to reverse internal content of each word\n",
    "s=\"Hello Divya\"\n",
    "l=s.split()\n",
    "print(' '.join(l[::-1] for l in s.split()))\n"
   ]
  },
  {
   "cell_type": "code",
   "execution_count": 4,
   "metadata": {},
   "outputs": [
    {
     "name": "stdout",
     "output_type": "stream",
     "text": [
      "odd positions of the string s is: HloPto rga\n",
      "even positions of the string s is: el yhnPorm\n"
     ]
    }
   ],
   "source": [
    "#program to print characters at odd and even positions for the given string\n",
    "s=\"Hello Python Program\"\n",
    "print(\"odd positions of the string s is:\",s[0::2])\n",
    "print(\"even positions of the string s is:\",s[1::2])"
   ]
  },
  {
   "cell_type": "code",
   "execution_count": 6,
   "metadata": {},
   "outputs": [
    {
     "name": "stdout",
     "output_type": "stream",
     "text": [
      "divyasri\n"
     ]
    }
   ],
   "source": [
    "#program to merge characters of 2 strings into single string by taking characters alternatively\n",
    "s1=\"dvar\"\n",
    "s2=\"iysi\"\n",
    "s=\"\".join([s1[i] + s2[i] for i in range(len(s1))]) + s2[len(s1):]\n",
    "print(s)"
   ]
  },
  {
   "cell_type": "code",
   "execution_count": null,
   "metadata": {},
   "outputs": [],
   "source": []
  }
 ],
 "metadata": {
  "kernelspec": {
   "display_name": "Python 3",
   "language": "python",
   "name": "python3"
  },
  "language_info": {
   "codemirror_mode": {
    "name": "ipython",
    "version": 3
   },
   "file_extension": ".py",
   "mimetype": "text/x-python",
   "name": "python",
   "nbconvert_exporter": "python",
   "pygments_lexer": "ipython3",
   "version": "3.8.5"
  }
 },
 "nbformat": 4,
 "nbformat_minor": 4
}
