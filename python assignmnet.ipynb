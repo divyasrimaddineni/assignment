{
 "cells": [
  {
   "cell_type": "code",
   "execution_count": 3,
   "metadata": {},
   "outputs": [
    {
     "name": "stdout",
     "output_type": "stream",
     "text": [
      "enter marks obtained:56\n",
      "B grade\n"
     ]
    }
   ],
   "source": [
    "m=int(input(\"enter marks obtained:\"))\n",
    "if m<40:\n",
    "    print(\"Fail\")\n",
    "elif m>=40 and m<50:\n",
    "    print(\"C grade\")\n",
    "elif m>=50 and m<60:\n",
    "    print(\"B grade\")\n",
    "elif m>=60 and m<70:\n",
    "    print(\"A grade\")\n",
    "elif m>=70 and m<=100:\n",
    "    print(\"Outstanding\")\n",
    "else:\n",
    "    print(\"invalid marks\")\n",
    "    "
   ]
  },
  {
   "cell_type": "code",
   "execution_count": null,
   "metadata": {},
   "outputs": [],
   "source": []
  }
 ],
 "metadata": {
  "kernelspec": {
   "display_name": "Python 3 (ipykernel)",
   "language": "python",
   "name": "python3"
  },
  "language_info": {
   "codemirror_mode": {
    "name": "ipython",
    "version": 3
   },
   "file_extension": ".py",
   "mimetype": "text/x-python",
   "name": "python",
   "nbconvert_exporter": "python",
   "pygments_lexer": "ipython3",
   "version": "3.9.7"
  }
 },
 "nbformat": 4,
 "nbformat_minor": 4
}
